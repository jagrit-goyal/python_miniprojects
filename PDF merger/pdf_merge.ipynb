{
 "cells": [
  {
   "cell_type": "code",
   "execution_count": 1,
   "metadata": {},
   "outputs": [
    {
     "name": "stdout",
     "output_type": "stream",
     "text": [
      "Defaulting to user installation because normal site-packages is not writeable\n",
      "Requirement already satisfied: PyPDF2 in c:\\users\\hp\\appdata\\roaming\\python\\python310\\site-packages (3.0.1)\n"
     ]
    }
   ],
   "source": [
    "!pip install PyPDF2"
   ]
  },
  {
   "cell_type": "code",
   "execution_count": 3,
   "metadata": {},
   "outputs": [],
   "source": [
    "import PyPDF2"
   ]
  },
  {
   "cell_type": "code",
   "execution_count": 4,
   "metadata": {},
   "outputs": [],
   "source": [
    "def merge_pdfs(input_pdfs, output_pdf):\n",
    "    pdf_writer = PyPDF2.PdfWriter()\n",
    "\n",
    "    for input_pdf in input_pdfs:\n",
    "        pdf_file = open(input_pdf, 'rb')\n",
    "        pdf_reader = PyPDF2.PdfReader(pdf_file)\n",
    "        num_pages = len(pdf_reader.pages)\n",
    "\n",
    "        for page in range(num_pages):\n",
    "            pdf_writer.add_page(pdf_reader.pages[page])\n",
    "\n",
    "        pdf_file.close()\n",
    "\n",
    "    with open(output_pdf, 'wb') as output_file:\n",
    "        pdf_writer.write(output_file)"
   ]
  },
  {
   "cell_type": "code",
   "execution_count": 5,
   "metadata": {},
   "outputs": [],
   "source": [
    "input_pdfs = [\"part1.pdf\", \"part2.pdf\"]\n",
    "output_pdf = \"output.pdf\"\n",
    "merge_pdfs(input_pdfs, output_pdf)"
   ]
  }
 ],
 "metadata": {
  "kernelspec": {
   "display_name": "Python 3",
   "language": "python",
   "name": "python3"
  },
  "language_info": {
   "codemirror_mode": {
    "name": "ipython",
    "version": 3
   },
   "file_extension": ".py",
   "mimetype": "text/x-python",
   "name": "python",
   "nbconvert_exporter": "python",
   "pygments_lexer": "ipython3",
   "version": "3.10.9"
  }
 },
 "nbformat": 4,
 "nbformat_minor": 2
}
