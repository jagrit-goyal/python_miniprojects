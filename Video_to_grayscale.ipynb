{
  "nbformat": 4,
  "nbformat_minor": 0,
  "metadata": {
    "colab": {
      "provenance": [],
      "include_colab_link": true
    },
    "kernelspec": {
      "name": "python3",
      "display_name": "Python 3"
    },
    "language_info": {
      "name": "python"
    }
  },
  "cells": [
    {
      "cell_type": "markdown",
      "metadata": {
        "id": "view-in-github",
        "colab_type": "text"
      },
      "source": [
        "<a href=\"https://colab.research.google.com/github/jagrit-goyal/python_miniprojects/blob/main/Video_to_grayscale.ipynb\" target=\"_parent\"><img src=\"https://colab.research.google.com/assets/colab-badge.svg\" alt=\"Open In Colab\"/></a>"
      ]
    },
    {
      "cell_type": "code",
      "execution_count": null,
      "metadata": {
        "id": "tXWoq-WrsvJM"
      },
      "outputs": [],
      "source": [
        "import cv2\n",
        "import os\n",
        "from PIL import Image\n",
        "import time\n",
        "from google.colab.patches import cv2_imshow"
      ]
    },
    {
      "cell_type": "code",
      "source": [
        "vidObj=cv2.VideoCapture(\"/content/sample_vid.mp4\")\n",
        "success=1\n",
        "fps = vidObj.get(cv2.CAP_PROP_FPS)\n",
        "\n",
        "frame_width = int(vidObj.get(3))\n",
        "frame_height = int(vidObj.get(4))\n",
        "size = (frame_width, frame_height)\n",
        "\n",
        "\n",
        "\n",
        "video =cv2.VideoWriter('/content/grayscale_vid.avi',\n",
        "            cv2.VideoWriter_fourcc(*'MJPG'),\n",
        "            int(fps), size, 0)\n",
        "\n",
        "\n",
        "while success:\n",
        "\n",
        "  success,image=vidObj.read()\n",
        "\n",
        "  if image is not None:\n",
        "    grayscale = cv2.cvtColor(image, cv2.COLOR_BGR2GRAY)\n",
        "\n",
        "    video.write(grayscale)\n",
        "\n",
        "  # exiting the loop\n",
        "  key = cv2.waitKey(1)\n",
        "  if key == ord(\"q\"):\n",
        "    break\n",
        "\n",
        "# closing the window\n",
        "cv2.destroyAllWindows()\n",
        "vidObj.release()"
      ],
      "metadata": {
        "id": "KnqWs0ZU2ExJ",
        "colab": {
          "base_uri": "https://localhost:8080/"
        },
        "outputId": "3851abe2-936d-4c96-f7eb-533f1083dc27"
      },
      "execution_count": null,
      "outputs": [
        {
          "output_type": "stream",
          "name": "stdout",
          "text": [
            "0.5\n",
            "(176, 320)\n",
            "(176, 320)\n",
            "(176, 320)\n",
            "(176, 320)\n",
            "(176, 320)\n",
            "(176, 320)\n",
            "(176, 320)\n",
            "(176, 320)\n",
            "(176, 320)\n",
            "(176, 320)\n",
            "(176, 320)\n",
            "(176, 320)\n",
            "(176, 320)\n",
            "(176, 320)\n",
            "(176, 320)\n",
            "(176, 320)\n",
            "(176, 320)\n",
            "(176, 320)\n",
            "(176, 320)\n",
            "(176, 320)\n",
            "(176, 320)\n",
            "(176, 320)\n",
            "(176, 320)\n",
            "(176, 320)\n",
            "(176, 320)\n",
            "(176, 320)\n",
            "(176, 320)\n",
            "(176, 320)\n",
            "(176, 320)\n",
            "(176, 320)\n",
            "(176, 320)\n",
            "(176, 320)\n",
            "(176, 320)\n",
            "(176, 320)\n",
            "(176, 320)\n",
            "(176, 320)\n",
            "(176, 320)\n",
            "(176, 320)\n",
            "(176, 320)\n",
            "(176, 320)\n",
            "(176, 320)\n",
            "(176, 320)\n",
            "(176, 320)\n",
            "(176, 320)\n",
            "(176, 320)\n",
            "(176, 320)\n",
            "(176, 320)\n",
            "(176, 320)\n",
            "(176, 320)\n",
            "(176, 320)\n",
            "(176, 320)\n",
            "(176, 320)\n",
            "(176, 320)\n",
            "(176, 320)\n",
            "(176, 320)\n",
            "(176, 320)\n",
            "(176, 320)\n",
            "(176, 320)\n",
            "(176, 320)\n",
            "(176, 320)\n",
            "(176, 320)\n",
            "(176, 320)\n",
            "(176, 320)\n"
          ]
        }
      ]
    }
  ]
}