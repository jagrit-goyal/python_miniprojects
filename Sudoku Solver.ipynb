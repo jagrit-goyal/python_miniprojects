{
  "nbformat": 4,
  "nbformat_minor": 0,
  "metadata": {
    "colab": {
      "name": "Sudoku.ipynb",
      "provenance": [],
      "collapsed_sections": [],
      "authorship_tag": "ABX9TyNH1PXiewTR+lZHG5iw7pYQ",
      "include_colab_link": true
    },
    "kernelspec": {
      "name": "python3",
      "display_name": "Python 3"
    },
    "language_info": {
      "name": "python"
    }
  },
  "cells": [
    {
      "cell_type": "markdown",
      "metadata": {
        "id": "view-in-github",
        "colab_type": "text"
      },
      "source": [
        "<a href=\"https://colab.research.google.com/github/Raghavgarg12/Mini-Projects/blob/main/Sudoku%20Solver/Sudoku%20Solver.ipynb\" target=\"_parent\"><img src=\"https://colab.research.google.com/assets/colab-badge.svg\" alt=\"Open In Colab\"/></a>"
      ]
    },
    {
      "cell_type": "code",
      "execution_count": null,
      "metadata": {
        "id": "D2o0ludJR4U-",
        "colab": {
          "base_uri": "https://localhost:8080/"
        },
        "outputId": "c1403782-d3b6-4275-f8f2-3c3a791aefb4"
      },
      "outputs": [
        {
          "output_type": "stream",
          "name": "stdout",
          "text": [
            "[0, 0, 0, 6, 0, 0, 4, 0, 0]\n",
            "[7, 0, 0, 0, 0, 3, 6, 0, 0]\n",
            "[0, 0, 0, 0, 9, 1, 0, 8, 0]\n",
            "[0, 0, 0, 0, 0, 0, 0, 0, 0]\n",
            "[0, 5, 0, 1, 8, 0, 0, 0, 3]\n",
            "[0, 0, 0, 3, 0, 6, 0, 4, 5]\n",
            "[0, 4, 0, 2, 0, 0, 0, 6, 0]\n",
            "[9, 0, 3, 0, 0, 0, 0, 0, 0]\n",
            "[0, 2, 0, 0, 0, 0, 1, 0, 0]\n",
            "\n",
            "\n",
            "\n",
            "\n",
            "\n",
            "[5, 8, 1, 6, 7, 2, 4, 3, 9]\n",
            "[7, 9, 2, 8, 4, 3, 6, 5, 1]\n",
            "[3, 6, 4, 5, 9, 1, 7, 8, 2]\n",
            "[4, 3, 8, 9, 5, 7, 2, 1, 6]\n",
            "[2, 5, 6, 1, 8, 4, 9, 7, 3]\n",
            "[1, 7, 9, 3, 2, 6, 8, 4, 5]\n",
            "[8, 4, 5, 2, 1, 9, 3, 6, 7]\n",
            "[9, 1, 3, 7, 6, 8, 5, 2, 4]\n",
            "[6, 2, 7, 4, 3, 5, 1, 9, 8]\n"
          ]
        }
      ],
      "source": [
        "L= [[0,0,0,6,0,0,4,0,0],\n",
        "    [7,0,0,0,0,3,6,0,0],\n",
        "    [0,0,0,0,9,1,0,8,0],\n",
        "    [0,0,0,0,0,0,0,0,0],\n",
        "    [0,5,0,1,8,0,0,0,3],\n",
        "    [0,0,0,3,0,6,0,4,5],\n",
        "    [0,4,0,2,0,0,0,6,0],\n",
        "    [9,0,3,0,0,0,0,0,0],\n",
        "    [0,2,0,0,0,0,1,0,0]]\n",
        "\n",
        "for i in range(len(L)):\n",
        "  print(L[i]) \n",
        "\n",
        "# To check empty positions\n",
        "\n",
        "def empcheck(Ls):\n",
        "  for i in range(len(Ls)):\n",
        "    for j in range(len(Ls[0])):\n",
        "      if Ls[i][j]==0:\n",
        "        return (i,j)  \n",
        "  return None\n",
        "\n",
        "def validate(Ls,pos,num):\n",
        "\n",
        "# Row check\n",
        "  for j in range(len(Ls[0])):\n",
        "    if Ls[pos[0]][j] == num and pos[1]!=j:\n",
        "      return False\n",
        "\n",
        "# Column check\n",
        "  for i in range(len(Ls[0])):\n",
        "      if Ls[i][pos[1]] == num and pos[0]!=i:\n",
        "        return False\n",
        "\n",
        "# Box Check\n",
        "  box_x = pos[0] // 3\n",
        "  box_y = pos[1] // 3\n",
        "  for i in range(box_x * 3, (box_x*3) +3 ):\n",
        "    for j in range(box_y * 3, (box_y*3) +3 ):\n",
        "      if Ls[i][j]==num and (i,j) !=pos:\n",
        "        return False\n",
        "  return True\n",
        "\n",
        "# Solve\n",
        "def solve(Ls):\n",
        "  pos1= empcheck(Ls)\n",
        "    \n",
        "  if not pos1:\n",
        "    return True\n",
        "\n",
        "  else :\n",
        "    i,j = pos1\n",
        "\n",
        "  for num in range(1,10):\n",
        "    if validate(Ls,(i,j),num):\n",
        "      Ls[i][j] = num\n",
        "\n",
        "      if solve(Ls):\n",
        "        return True\n",
        "      Ls[i][j] = 0\n",
        "  return False   \n",
        "\n",
        "# Printing Solved Sudoku\n",
        "solve(L)\n",
        "print(\"\\n\\n\\n\\n\")\n",
        "for m in range(len(L)):\n",
        "  print(L[m])"
      ]
    }
  ]
}