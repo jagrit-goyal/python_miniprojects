{
 "cells": [
  {
   "cell_type": "code",
   "execution_count": 1,
   "metadata": {},
   "outputs": [],
   "source": [
    "#importing libraries and modules\n",
    "import tkinter as tk\n",
    "from tkinter import *\n",
    "from tkinter import filedialog\n",
    "from PIL import Image"
   ]
  },
  {
   "cell_type": "code",
   "execution_count": 2,
   "metadata": {},
   "outputs": [],
   "source": [
    "#function to browse image\n",
    "def browse():\n",
    "    global img\n",
    "    filename = filedialog.askopenfilename(title = \"Select a File\")#selecting a file from the system\n",
    "    img = Image.open(filename)#opening the selected file"
   ]
  },
  {
   "cell_type": "code",
   "execution_count": 3,
   "metadata": {},
   "outputs": [],
   "source": [
    "#function to change from png to jpg\n",
    "def png_to_jpg():\n",
    "    global img\n",
    "    export_file_path = filedialog.asksaveasfilename(defaultextension='.jpg')#choosing the path and changing extension to jpg\n",
    "    img.save(export_file_path)#saving the file on desired path"
   ]
  },
  {
   "cell_type": "code",
   "execution_count": 4,
   "metadata": {},
   "outputs": [],
   "source": [
    "#function to change from jpg to png\n",
    "def jpg_to_png():\n",
    "    global img\n",
    "    export_file_path = filedialog.asksaveasfilename(defaultextension='.png')#choosing the path and changing extension to jpg\n",
    "    img.save(export_file_path)#saving the file on desired path"
   ]
  },
  {
   "cell_type": "code",
   "execution_count": 5,
   "metadata": {},
   "outputs": [],
   "source": [
    "#creating window\n",
    "root = Tk()\n",
    "root.geometry('600x250')#geometry of window\n",
    "root.title('DataFlair')#title for window\n",
    "Label(root,text='Image Format Converter',font='arial 15').place(x=210,y=10)"
   ]
  },
  {
   "cell_type": "code",
   "execution_count": 6,
   "metadata": {},
   "outputs": [],
   "source": [
    "Button(root,text='Browse an Image',command=browse,fg='blue',font='arial 10').place(x=250,y=45)#creating button"
   ]
  },
  {
   "cell_type": "code",
   "execution_count": 7,
   "metadata": {},
   "outputs": [],
   "source": [
    "Button(root,text='Png To Jpg',command=png_to_jpg,fg='red',font='arial 10').place(x=120,y=95)\n",
    "Button(root,text='Jpg To Png',command=jpg_to_png,fg='red',font='arial 10').place(x=450,y=95)"
   ]
  },
  {
   "cell_type": "code",
   "execution_count": 8,
   "metadata": {},
   "outputs": [
    {
     "name": "stderr",
     "output_type": "stream",
     "text": [
      "Exception in Tkinter callback\n",
      "Traceback (most recent call last):\n",
      "  File \"c:\\ProgramData\\anaconda3\\lib\\site-packages\\PIL\\Image.py\", line 2408, in save\n",
      "    format = EXTENSION[ext]\n",
      "KeyError: ''\n",
      "\n",
      "The above exception was the direct cause of the following exception:\n",
      "\n",
      "Traceback (most recent call last):\n",
      "  File \"c:\\ProgramData\\anaconda3\\lib\\tkinter\\__init__.py\", line 1921, in __call__\n",
      "    return self.func(*args)\n",
      "  File \"C:\\Users\\HP\\AppData\\Local\\Temp\\ipykernel_18456\\821073795.py\", line 5, in png_to_jpg\n",
      "    img.save(export_file_path)#saving the file on desired path\n",
      "  File \"c:\\ProgramData\\anaconda3\\lib\\site-packages\\PIL\\Image.py\", line 2411, in save\n",
      "    raise ValueError(msg) from e\n",
      "ValueError: unknown file extension: \n"
     ]
    }
   ],
   "source": [
    "root.mainloop()"
   ]
  }
 ],
 "metadata": {
  "kernelspec": {
   "display_name": "Python 3",
   "language": "python",
   "name": "python3"
  },
  "language_info": {
   "codemirror_mode": {
    "name": "ipython",
    "version": 3
   },
   "file_extension": ".py",
   "mimetype": "text/x-python",
   "name": "python",
   "nbconvert_exporter": "python",
   "pygments_lexer": "ipython3",
   "version": "3.10.9"
  }
 },
 "nbformat": 4,
 "nbformat_minor": 2
}
