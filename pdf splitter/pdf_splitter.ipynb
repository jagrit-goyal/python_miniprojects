{
 "cells": [
  {
   "cell_type": "code",
   "execution_count": 1,
   "metadata": {},
   "outputs": [
    {
     "name": "stdout",
     "output_type": "stream",
     "text": [
      "Defaulting to user installation because normal site-packages is not writeable\n",
      "Collecting PyPDF2\n",
      "  Downloading pypdf2-3.0.1-py3-none-any.whl (232 kB)\n",
      "     ------------------------------------ 232.6/232.6 kB 791.2 kB/s eta 0:00:00\n",
      "Installing collected packages: PyPDF2\n",
      "Successfully installed PyPDF2-3.0.1\n"
     ]
    }
   ],
   "source": [
    "!pip install PyPDF2"
   ]
  },
  {
   "cell_type": "code",
   "execution_count": 4,
   "metadata": {},
   "outputs": [],
   "source": [
    "import os\n",
    "from PyPDF2 import PdfReader, PdfWriter"
   ]
  },
  {
   "cell_type": "code",
   "execution_count": 5,
   "metadata": {},
   "outputs": [],
   "source": [
    "def split_pdf(input_pdf, output_dir, split_page):\n",
    "    if not os.path.exists(output_dir):\n",
    "        os.makedirs(output_dir)\n",
    "\n",
    "    pdf = PdfReader(open(input_pdf, \"rb\"))\n",
    "    total_pages = len(pdf.pages)\n",
    "\n",
    "    if split_page < 1 or split_page >= total_pages:\n",
    "        raise ValueError(\"Split page number must be between 1 and the total number of pages minus one.\")\n",
    "\n",
    "    part1_writer = PdfWriter()\n",
    "    part2_writer = PdfWriter()\n",
    "\n",
    "    for page_num in range(total_pages):\n",
    "        if page_num < split_page:\n",
    "            part1_writer.add_page(pdf.pages[page_num])\n",
    "        else:\n",
    "            part2_writer.add_page(pdf.pages[page_num])\n",
    "\n",
    "    # Save the two parts\n",
    "    part1_filename = os.path.join(output_dir, 'part1.pdf')\n",
    "    part2_filename = os.path.join(output_dir, 'part2.pdf')\n",
    "\n",
    "    with open(part1_filename, 'wb') as part1_pdf:\n",
    "        part1_writer.write(part1_pdf)\n",
    "\n",
    "    with open(part2_filename, 'wb') as part2_pdf:\n",
    "        part2_writer.write(part2_pdf)\n",
    "\n",
    "    print(f'Created: {part1_filename}')\n",
    "    print(f'Created: {part2_filename}')"
   ]
  },
  {
   "cell_type": "code",
   "execution_count": 6,
   "metadata": {},
   "outputs": [
    {
     "name": "stdout",
     "output_type": "stream",
     "text": [
      "Created: ./part1.pdf\n",
      "Created: ./part2.pdf\n"
     ]
    }
   ],
   "source": [
    "if __name__ == \"__main__\":\n",
    "    input_pdf = 'Research.pdf'  # Replace with the path to your input PDF file\n",
    "    output_dir = './'  # Replace with the directory where you want to save the output PDFs\n",
    "    split_page = int(input(\"Enter the page number where you want to split the PDF: \"))\n",
    "    split_pdf(input_pdf, output_dir, split_page)"
   ]
  }
 ],
 "metadata": {
  "kernelspec": {
   "display_name": "Python 3",
   "language": "python",
   "name": "python3"
  },
  "language_info": {
   "codemirror_mode": {
    "name": "ipython",
    "version": 3
   },
   "file_extension": ".py",
   "mimetype": "text/x-python",
   "name": "python",
   "nbconvert_exporter": "python",
   "pygments_lexer": "ipython3",
   "version": "3.10.9"
  }
 },
 "nbformat": 4,
 "nbformat_minor": 2
}
